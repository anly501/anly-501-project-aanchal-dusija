{
 "cells": [
  {
   "cell_type": "raw",
   "metadata": {},
   "source": [
    "---\n",
    "title: \"Clustering For Record Data\"\n",
    "format:\n",
    "  html:\n",
    "    code-fold : true\n",
    "jupyter: python3\n",
    "---"
   ]
  },
  {
   "cell_type": "markdown",
   "metadata": {},
   "source": [
    "## Introduction\n",
    "\n",
    "- I have taken Macys Dataset by Webscraping data from the Macys Official Website to perform Clustering Analysis on Record Data. The data has been cleaned in the previous tabs. However, I have done some exploratory data analysis relevant for Cluster Analysis.\n",
    "- The dataset contains of the Brand name, Apparel Category, Various Colors Available, Customer Ratings, URL of the product, Average Price among various colors, Stock available for each Color, Total Stock of the product, Gender of the Apparel and Price Type (Expensive or Reasonable). The table has 1429 rows with 20 columns which is eventually reduced to 12 columns.\n",
    "- There are missing values found in the dataset which have been filled up. For contionous variables, the missing value has been filled up with the mean value. For the categorical variables, the missing value has been filled up with the modal value. Some of the features are categorical and are be converted into numeric using cat.codes."
   ]
  },
  {
   "cell_type": "code",
   "execution_count": 274,
   "metadata": {},
   "outputs": [],
   "source": [
    "# Import the necessary packages\n",
    "import numpy as np\n",
    "import pandas as pd\n",
    "import matplotlib.pyplot as plt\n",
    "import seaborn as sns\n",
    "sns.set_theme(style=\"whitegrid\", palette='Set2')\n",
    "from sklearn.preprocessing import StandardScaler\n",
    "from scipy.spatial.distance import cdist\n",
    "import warnings\n",
    "warnings.filterwarnings('ignore')"
   ]
  },
  {
   "cell_type": "code",
   "execution_count": 275,
   "metadata": {},
   "outputs": [
    {
     "data": {
      "text/html": [
       "<div>\n",
       "<style scoped>\n",
       "    .dataframe tbody tr th:only-of-type {\n",
       "        vertical-align: middle;\n",
       "    }\n",
       "\n",
       "    .dataframe tbody tr th {\n",
       "        vertical-align: top;\n",
       "    }\n",
       "\n",
       "    .dataframe thead th {\n",
       "        text-align: right;\n",
       "    }\n",
       "</style>\n",
       "<table border=\"1\" class=\"dataframe\">\n",
       "  <thead>\n",
       "    <tr style=\"text-align: right;\">\n",
       "      <th></th>\n",
       "      <th>Brand</th>\n",
       "      <th>Category</th>\n",
       "      <th>Color0</th>\n",
       "      <th>Color1</th>\n",
       "      <th>Color2</th>\n",
       "      <th>Color3</th>\n",
       "      <th>Color4</th>\n",
       "      <th>Color5</th>\n",
       "      <th>Rating</th>\n",
       "      <th>URL</th>\n",
       "      <th>Average_Price</th>\n",
       "      <th>C0_stock</th>\n",
       "      <th>C1_stock</th>\n",
       "      <th>C2_stock</th>\n",
       "      <th>C3_stock</th>\n",
       "      <th>C4_stock</th>\n",
       "      <th>C5_stock</th>\n",
       "      <th>Total_stock</th>\n",
       "      <th>Gender</th>\n",
       "      <th>Price_type</th>\n",
       "    </tr>\n",
       "  </thead>\n",
       "  <tbody>\n",
       "    <tr>\n",
       "      <th>0</th>\n",
       "      <td>Camper</td>\n",
       "      <td>Shoes</td>\n",
       "      <td>Multicolor</td>\n",
       "      <td>NaN</td>\n",
       "      <td>NaN</td>\n",
       "      <td>NaN</td>\n",
       "      <td>NaN</td>\n",
       "      <td>NaN</td>\n",
       "      <td>5.0000</td>\n",
       "      <td>https://www.macys.com/shop/product/camper-mens...</td>\n",
       "      <td>NaN</td>\n",
       "      <td>15</td>\n",
       "      <td>0</td>\n",
       "      <td>0</td>\n",
       "      <td>0</td>\n",
       "      <td>0</td>\n",
       "      <td>0</td>\n",
       "      <td>15</td>\n",
       "      <td>Men</td>\n",
       "      <td>NaN</td>\n",
       "    </tr>\n",
       "    <tr>\n",
       "      <th>1</th>\n",
       "      <td>Timberland</td>\n",
       "      <td>Shoes</td>\n",
       "      <td>Black</td>\n",
       "      <td>Dark Brown</td>\n",
       "      <td>NaN</td>\n",
       "      <td>NaN</td>\n",
       "      <td>NaN</td>\n",
       "      <td>NaN</td>\n",
       "      <td>4.5767</td>\n",
       "      <td>https://www.macys.com/shop/product/timberland-...</td>\n",
       "      <td>89.95</td>\n",
       "      <td>66</td>\n",
       "      <td>66</td>\n",
       "      <td>0</td>\n",
       "      <td>0</td>\n",
       "      <td>0</td>\n",
       "      <td>0</td>\n",
       "      <td>132</td>\n",
       "      <td>Men</td>\n",
       "      <td>Reasonable</td>\n",
       "    </tr>\n",
       "    <tr>\n",
       "      <th>2</th>\n",
       "      <td>Weatherproof Vintage</td>\n",
       "      <td>Men</td>\n",
       "      <td>Black</td>\n",
       "      <td>Rosin</td>\n",
       "      <td>Navy</td>\n",
       "      <td>Port</td>\n",
       "      <td>Pumpkin</td>\n",
       "      <td>NaN</td>\n",
       "      <td>0.0000</td>\n",
       "      <td>https://www.macys.com/shop/product/weatherproo...</td>\n",
       "      <td>49.00</td>\n",
       "      <td>10</td>\n",
       "      <td>10</td>\n",
       "      <td>10</td>\n",
       "      <td>10</td>\n",
       "      <td>10</td>\n",
       "      <td>0</td>\n",
       "      <td>50</td>\n",
       "      <td>Men</td>\n",
       "      <td>Reasonable</td>\n",
       "    </tr>\n",
       "    <tr>\n",
       "      <th>3</th>\n",
       "      <td>Michael Kors</td>\n",
       "      <td>Casual Button-Down Shirts</td>\n",
       "      <td>Black</td>\n",
       "      <td>White</td>\n",
       "      <td>Dark Blue</td>\n",
       "      <td>Alloy Gray</td>\n",
       "      <td>NaN</td>\n",
       "      <td>NaN</td>\n",
       "      <td>4.5116</td>\n",
       "      <td>https://www.macys.com/shop/product/michael-kor...</td>\n",
       "      <td>62.65</td>\n",
       "      <td>10</td>\n",
       "      <td>10</td>\n",
       "      <td>10</td>\n",
       "      <td>10</td>\n",
       "      <td>0</td>\n",
       "      <td>0</td>\n",
       "      <td>40</td>\n",
       "      <td>Men</td>\n",
       "      <td>Reasonable</td>\n",
       "    </tr>\n",
       "    <tr>\n",
       "      <th>4</th>\n",
       "      <td>Tommy Hilfiger</td>\n",
       "      <td>Blazers &amp; Sport Coats</td>\n",
       "      <td>Brown</td>\n",
       "      <td>NaN</td>\n",
       "      <td>NaN</td>\n",
       "      <td>NaN</td>\n",
       "      <td>NaN</td>\n",
       "      <td>NaN</td>\n",
       "      <td>0.0000</td>\n",
       "      <td>https://www.macys.com/shop/product/tommy-hilfi...</td>\n",
       "      <td>139.99</td>\n",
       "      <td>91</td>\n",
       "      <td>0</td>\n",
       "      <td>0</td>\n",
       "      <td>0</td>\n",
       "      <td>0</td>\n",
       "      <td>0</td>\n",
       "      <td>91</td>\n",
       "      <td>Men</td>\n",
       "      <td>Expensive</td>\n",
       "    </tr>\n",
       "  </tbody>\n",
       "</table>\n",
       "</div>"
      ],
      "text/plain": [
       "                  Brand                   Category      Color0      Color1  \\\n",
       "0                Camper                      Shoes  Multicolor         NaN   \n",
       "1            Timberland                      Shoes       Black  Dark Brown   \n",
       "2  Weatherproof Vintage                        Men       Black       Rosin   \n",
       "3          Michael Kors  Casual Button-Down Shirts       Black       White   \n",
       "4        Tommy Hilfiger      Blazers & Sport Coats       Brown         NaN   \n",
       "\n",
       "      Color2      Color3   Color4 Color5  Rating  \\\n",
       "0        NaN         NaN      NaN    NaN  5.0000   \n",
       "1        NaN         NaN      NaN    NaN  4.5767   \n",
       "2       Navy        Port  Pumpkin    NaN  0.0000   \n",
       "3  Dark Blue  Alloy Gray      NaN    NaN  4.5116   \n",
       "4        NaN         NaN      NaN    NaN  0.0000   \n",
       "\n",
       "                                                 URL  Average_Price  C0_stock  \\\n",
       "0  https://www.macys.com/shop/product/camper-mens...            NaN        15   \n",
       "1  https://www.macys.com/shop/product/timberland-...          89.95        66   \n",
       "2  https://www.macys.com/shop/product/weatherproo...          49.00        10   \n",
       "3  https://www.macys.com/shop/product/michael-kor...          62.65        10   \n",
       "4  https://www.macys.com/shop/product/tommy-hilfi...         139.99        91   \n",
       "\n",
       "   C1_stock  C2_stock  C3_stock  C4_stock  C5_stock  Total_stock Gender  \\\n",
       "0         0         0         0         0         0           15    Men   \n",
       "1        66         0         0         0         0          132    Men   \n",
       "2        10        10        10        10         0           50    Men   \n",
       "3        10        10        10         0         0           40    Men   \n",
       "4         0         0         0         0         0           91    Men   \n",
       "\n",
       "   Price_type  \n",
       "0         NaN  \n",
       "1  Reasonable  \n",
       "2  Reasonable  \n",
       "3  Reasonable  \n",
       "4   Expensive  "
      ]
     },
     "execution_count": 275,
     "metadata": {},
     "output_type": "execute_result"
    }
   ],
   "source": [
    "# Macy's Data\n",
    "\n",
    "df = pd.read_csv('macy_mw.csv')\n",
    "df.head()"
   ]
  },
  {
   "cell_type": "code",
   "execution_count": 276,
   "metadata": {},
   "outputs": [],
   "source": [
    "# Remove unnecessary columns\n",
    "df.drop(['Color1', 'Color2','Color3','Color4','Color5','URL','Color0','Category'], axis=1, inplace=True)"
   ]
  },
  {
   "cell_type": "code",
   "execution_count": 277,
   "metadata": {},
   "outputs": [
    {
     "data": {
      "text/plain": [
       "Brand              0\n",
       "Rating             0\n",
       "Average_Price    281\n",
       "C0_stock           0\n",
       "C1_stock           0\n",
       "C2_stock           0\n",
       "C3_stock           0\n",
       "C4_stock           0\n",
       "C5_stock           0\n",
       "Total_stock        0\n",
       "Gender             0\n",
       "Price_type       281\n",
       "dtype: int64"
      ]
     },
     "execution_count": 277,
     "metadata": {},
     "output_type": "execute_result"
    }
   ],
   "source": [
    "# Checking for missing values\n",
    "df.isnull().sum()"
   ]
  },
  {
   "cell_type": "code",
   "execution_count": 278,
   "metadata": {},
   "outputs": [],
   "source": [
    "# Replace continuous missing values with mean of the column. check for Nan values again.\n",
    "df['Average_Price'] = df['Average_Price'].fillna(df['Average_Price'].mean())"
   ]
  },
  {
   "cell_type": "code",
   "execution_count": 279,
   "metadata": {},
   "outputs": [],
   "source": [
    "# Replace categorical missing values with mode of the column. check for Nan values again.\n",
    "df['Price_type'] = df['Price_type'].fillna(df['Price_type'].mode()[0])\n"
   ]
  },
  {
   "cell_type": "code",
   "execution_count": 280,
   "metadata": {},
   "outputs": [
    {
     "data": {
      "text/plain": [
       "Brand            0\n",
       "Rating           0\n",
       "Average_Price    0\n",
       "C0_stock         0\n",
       "C1_stock         0\n",
       "C2_stock         0\n",
       "C3_stock         0\n",
       "C4_stock         0\n",
       "C5_stock         0\n",
       "Total_stock      0\n",
       "Gender           0\n",
       "Price_type       0\n",
       "dtype: int64"
      ]
     },
     "execution_count": 280,
     "metadata": {},
     "output_type": "execute_result"
    }
   ],
   "source": [
    "# Checking for missing values\n",
    "df.isnull().sum()"
   ]
  },
  {
   "cell_type": "code",
   "execution_count": 281,
   "metadata": {},
   "outputs": [
    {
     "data": {
      "text/html": [
       "<div>\n",
       "<style scoped>\n",
       "    .dataframe tbody tr th:only-of-type {\n",
       "        vertical-align: middle;\n",
       "    }\n",
       "\n",
       "    .dataframe tbody tr th {\n",
       "        vertical-align: top;\n",
       "    }\n",
       "\n",
       "    .dataframe thead th {\n",
       "        text-align: right;\n",
       "    }\n",
       "</style>\n",
       "<table border=\"1\" class=\"dataframe\">\n",
       "  <thead>\n",
       "    <tr style=\"text-align: right;\">\n",
       "      <th></th>\n",
       "      <th>Brand</th>\n",
       "      <th>Rating</th>\n",
       "      <th>Average_Price</th>\n",
       "      <th>C0_stock</th>\n",
       "      <th>C1_stock</th>\n",
       "      <th>C2_stock</th>\n",
       "      <th>C3_stock</th>\n",
       "      <th>C4_stock</th>\n",
       "      <th>C5_stock</th>\n",
       "      <th>Total_stock</th>\n",
       "      <th>Gender</th>\n",
       "      <th>Price_type</th>\n",
       "    </tr>\n",
       "  </thead>\n",
       "  <tbody>\n",
       "    <tr>\n",
       "      <th>0</th>\n",
       "      <td>35</td>\n",
       "      <td>5.0000</td>\n",
       "      <td>140.506462</td>\n",
       "      <td>15</td>\n",
       "      <td>0</td>\n",
       "      <td>0</td>\n",
       "      <td>0</td>\n",
       "      <td>0</td>\n",
       "      <td>0</td>\n",
       "      <td>15</td>\n",
       "      <td>0</td>\n",
       "      <td>1</td>\n",
       "    </tr>\n",
       "    <tr>\n",
       "      <th>1</th>\n",
       "      <td>189</td>\n",
       "      <td>4.5767</td>\n",
       "      <td>89.950000</td>\n",
       "      <td>66</td>\n",
       "      <td>66</td>\n",
       "      <td>0</td>\n",
       "      <td>0</td>\n",
       "      <td>0</td>\n",
       "      <td>0</td>\n",
       "      <td>132</td>\n",
       "      <td>0</td>\n",
       "      <td>1</td>\n",
       "    </tr>\n",
       "    <tr>\n",
       "      <th>2</th>\n",
       "      <td>210</td>\n",
       "      <td>0.0000</td>\n",
       "      <td>49.000000</td>\n",
       "      <td>10</td>\n",
       "      <td>10</td>\n",
       "      <td>10</td>\n",
       "      <td>10</td>\n",
       "      <td>10</td>\n",
       "      <td>0</td>\n",
       "      <td>50</td>\n",
       "      <td>0</td>\n",
       "      <td>1</td>\n",
       "    </tr>\n",
       "    <tr>\n",
       "      <th>3</th>\n",
       "      <td>134</td>\n",
       "      <td>4.5116</td>\n",
       "      <td>62.650000</td>\n",
       "      <td>10</td>\n",
       "      <td>10</td>\n",
       "      <td>10</td>\n",
       "      <td>10</td>\n",
       "      <td>0</td>\n",
       "      <td>0</td>\n",
       "      <td>40</td>\n",
       "      <td>0</td>\n",
       "      <td>1</td>\n",
       "    </tr>\n",
       "    <tr>\n",
       "      <th>4</th>\n",
       "      <td>193</td>\n",
       "      <td>0.0000</td>\n",
       "      <td>139.990000</td>\n",
       "      <td>91</td>\n",
       "      <td>0</td>\n",
       "      <td>0</td>\n",
       "      <td>0</td>\n",
       "      <td>0</td>\n",
       "      <td>0</td>\n",
       "      <td>91</td>\n",
       "      <td>0</td>\n",
       "      <td>0</td>\n",
       "    </tr>\n",
       "  </tbody>\n",
       "</table>\n",
       "</div>"
      ],
      "text/plain": [
       "   Brand  Rating  Average_Price  C0_stock  C1_stock  C2_stock  C3_stock  \\\n",
       "0     35  5.0000     140.506462        15         0         0         0   \n",
       "1    189  4.5767      89.950000        66        66         0         0   \n",
       "2    210  0.0000      49.000000        10        10        10        10   \n",
       "3    134  4.5116      62.650000        10        10        10        10   \n",
       "4    193  0.0000     139.990000        91         0         0         0   \n",
       "\n",
       "   C4_stock  C5_stock  Total_stock  Gender  Price_type  \n",
       "0         0         0           15       0           1  \n",
       "1         0         0          132       0           1  \n",
       "2        10         0           50       0           1  \n",
       "3         0         0           40       0           1  \n",
       "4         0         0           91       0           0  "
      ]
     },
     "execution_count": 281,
     "metadata": {},
     "output_type": "execute_result"
    }
   ],
   "source": [
    "# Replace categorical values with category codes by using the cat.codes function. \n",
    "df['Brand'] = df['Brand'].astype('category').cat.codes\n",
    "df['Gender'] = df['Gender'].astype('category').cat.codes\n",
    "df['Price_type'] = df['Price_type'].astype('category').cat.codes\n",
    "df.head()"
   ]
  },
  {
   "cell_type": "code",
   "execution_count": 282,
   "metadata": {},
   "outputs": [],
   "source": [
    "# Split the dataset in X and y. \n",
    "# Since this is unsupervised learning, we will not use the y labels. \n",
    "# Normalizing the X data by using the StandardScaler function.\n",
    "\n",
    "X = df.drop('Price_type', axis=1)\n",
    "y = df['Price_type']\n",
    "scaler = StandardScaler()\n",
    "X = scaler.fit_transform(X)\n"
   ]
  },
  {
   "cell_type": "markdown",
   "metadata": {},
   "source": [
    "# Clustering\n",
    "\n",
    "One of the most popular methods for gaining a general understanding of the datas structure is clustering. It can be summed up as the process of finding data subgroups where data points in the same subgroup (cluster) are extremely similar and other data points in other clusters are very dissimilar. To put it another way, we look for homogeneous subgroups within the data so that the data points in each cluster are as comparable as feasible based on a similarity metric like the euclidean-based distance or the correlation-based distance.\n",
    "\n",
    "Since we lack the ground truth to compare the output of the clustering algorithm to the true labels in order to assess its success, clustering is regarded as an unsupervised learning technique. By dividing the data points into discrete subgroups, we simply wish to try to study the datas structure."
   ]
  },
  {
   "cell_type": "code",
   "execution_count": 283,
   "metadata": {},
   "outputs": [],
   "source": [
    "# Importing relevent libraries for clustering. \n",
    "# We will use KMeans, AgglomerativeClustering, MeanShift, Birch, and DBSCAN\n",
    "\n",
    "from sklearn.cluster import KMeans\n",
    "from sklearn.cluster import DBSCAN\n",
    "from sklearn.metrics import silhouette_score\n",
    "from sklearn.metrics import silhouette_samples\n",
    "from sklearn.cluster import AgglomerativeClustering\n",
    "from scipy.cluster.hierarchy import dendrogram, linkage\n",
    "from sklearn.cluster import MeanShift, estimate_bandwidth\n",
    "from itertools import cycle\n",
    "from sklearn.cluster import Birch"
   ]
  },
  {
   "cell_type": "markdown",
   "metadata": {},
   "source": [
    "## K-Means Clustering\n",
    "\n",
    "The iterative Kmeans algorithm attempts to divide the dataset into K unique, non-overlapping subgroups (clusters), each of which contains a single data point. While keeping the clusters as distinct (far) apart as possible, it aims to make the intra-cluster data points as comparable as possible. It assigns data points to clusters in a way that minimizes the sum of the squared distances between the data points and the cluster centroid, which is the average value of all the data points in the cluster. The homogeneity (similarity) of the data points within a cluster increases as the amount of variance within the cluster decreases.\n",
    "\n",
    "It is advised to standardize the data to have a mean of zero and a standard deviation of one because clustering algorithms, such as kmeans, use distance-based measurements to compare the similarity between data points. This is because features in any dataset almost always have different units of measurement, such as age vs. income.\n",
    "\n",
    "Different initializations may result in different clusters since the kmeans method may get trapped in a local optimum and not converge to a global optimum due to its iterative nature and the random initialization of centroids at the beginning of the algorithm. Therefore, it is advised to execute the method with several centroids initializations and select the results of the run that produced the smallest sum of squared distance."
   ]
  },
  {
   "cell_type": "markdown",
   "metadata": {},
   "source": [
    "# Hyper Parameter Tuning:\n",
    "Elbow Method is the hyper parameter tuning technique employed here. Since the data set dimension is tiny and the elbow approach works well for data with small dimensions, this method was chosen. An average score for all clusters is determined for each value of k. In order to get the closest centroid for each value, distortion and inertia are computed.\n",
    "\n",
    "Determining the datas ideal K value. The simplest clustering algorithm is K-means. For an n-count of records, it creates K clusters. The following is how the analogy works: The initialization of k is random. The term for it is cluster centriods. This k value ranges from 1 to 10 in the code below. Inertia is estimated for each k. The distance between each data point and its centroid is squared and added to determine inertia. One with little inertia and few clusters is an excellent model. Each k-distortion values is calculated. It is the separation between each observation and the centroid with the greatest dominance. Low distortion is ideal for clusters."
   ]
  },
  {
   "cell_type": "code",
   "execution_count": 284,
   "metadata": {},
   "outputs": [
    {
     "data": {
      "text/html": [
       "<div>\n",
       "<style scoped>\n",
       "    .dataframe tbody tr th:only-of-type {\n",
       "        vertical-align: middle;\n",
       "    }\n",
       "\n",
       "    .dataframe tbody tr th {\n",
       "        vertical-align: top;\n",
       "    }\n",
       "\n",
       "    .dataframe thead th {\n",
       "        text-align: right;\n",
       "    }\n",
       "</style>\n",
       "<table border=\"1\" class=\"dataframe\">\n",
       "  <thead>\n",
       "    <tr style=\"text-align: right;\">\n",
       "      <th></th>\n",
       "      <th>clusters</th>\n",
       "      <th>inertia</th>\n",
       "      <th>distortion</th>\n",
       "    </tr>\n",
       "  </thead>\n",
       "  <tbody>\n",
       "    <tr>\n",
       "      <th>0</th>\n",
       "      <td>1.0</td>\n",
       "      <td>15719.000000</td>\n",
       "      <td>2.411847</td>\n",
       "    </tr>\n",
       "    <tr>\n",
       "      <th>1</th>\n",
       "      <td>2.0</td>\n",
       "      <td>10596.758772</td>\n",
       "      <td>2.214785</td>\n",
       "    </tr>\n",
       "    <tr>\n",
       "      <th>2</th>\n",
       "      <td>3.0</td>\n",
       "      <td>8712.580554</td>\n",
       "      <td>2.083794</td>\n",
       "    </tr>\n",
       "    <tr>\n",
       "      <th>3</th>\n",
       "      <td>4.0</td>\n",
       "      <td>7101.937829</td>\n",
       "      <td>1.718951</td>\n",
       "    </tr>\n",
       "    <tr>\n",
       "      <th>4</th>\n",
       "      <td>5.0</td>\n",
       "      <td>5867.150917</td>\n",
       "      <td>1.687678</td>\n",
       "    </tr>\n",
       "    <tr>\n",
       "      <th>5</th>\n",
       "      <td>6.0</td>\n",
       "      <td>5146.849967</td>\n",
       "      <td>1.481304</td>\n",
       "    </tr>\n",
       "    <tr>\n",
       "      <th>6</th>\n",
       "      <td>7.0</td>\n",
       "      <td>4547.479940</td>\n",
       "      <td>1.435545</td>\n",
       "    </tr>\n",
       "    <tr>\n",
       "      <th>7</th>\n",
       "      <td>8.0</td>\n",
       "      <td>4113.220136</td>\n",
       "      <td>1.327980</td>\n",
       "    </tr>\n",
       "    <tr>\n",
       "      <th>8</th>\n",
       "      <td>9.0</td>\n",
       "      <td>3737.031820</td>\n",
       "      <td>1.201778</td>\n",
       "    </tr>\n",
       "    <tr>\n",
       "      <th>9</th>\n",
       "      <td>10.0</td>\n",
       "      <td>3409.938276</td>\n",
       "      <td>1.165319</td>\n",
       "    </tr>\n",
       "  </tbody>\n",
       "</table>\n",
       "</div>"
      ],
      "text/plain": [
       "   clusters       inertia  distortion\n",
       "0       1.0  15719.000000    2.411847\n",
       "1       2.0  10596.758772    2.214785\n",
       "2       3.0   8712.580554    2.083794\n",
       "3       4.0   7101.937829    1.718951\n",
       "4       5.0   5867.150917    1.687678\n",
       "5       6.0   5146.849967    1.481304\n",
       "6       7.0   4547.479940    1.435545\n",
       "7       8.0   4113.220136    1.327980\n",
       "8       9.0   3737.031820    1.201778\n",
       "9      10.0   3409.938276    1.165319"
      ]
     },
     "execution_count": 284,
     "metadata": {},
     "output_type": "execute_result"
    }
   ],
   "source": [
    "# For k means clustering we will use the elbow method to find the optimal number of clusters. \n",
    "# we will use the inertia_ attribute to find the sum of squared distances of samples to their closest cluster center. \n",
    "# we will use the range of 1 to 10 clusters. plot the inertia_ values for each number of clusters. \n",
    "# make sure to save it in a dataframe and plot it using matplotlib.\n",
    "\n",
    "inertia = pd.DataFrame(columns=['clusters', 'inertia', 'distortion'])\n",
    "for i in range(1, 11):\n",
    "    kmeans = KMeans(n_clusters=i, random_state=0)\n",
    "    kmeans.fit(X)\n",
    "    inertia = inertia.append({'clusters': i, 'inertia': kmeans.inertia_, 'distortion': sum(np.min(cdist(X, kmeans.cluster_centers_, 'euclidean'), axis=1))/X.shape[0]}, ignore_index=True)\n",
    "inertia\n"
   ]
  },
  {
   "cell_type": "code",
   "execution_count": 285,
   "metadata": {},
   "outputs": [
    {
     "data": {
      "text/plain": [
       "array([<AxesSubplot:xlabel='clusters'>, <AxesSubplot:xlabel='clusters'>],\n",
       "      dtype=object)"
      ]
     },
     "execution_count": 285,
     "metadata": {},
     "output_type": "execute_result"
    },
    {
     "data": {
      "image/png": "[encoded data removed]",
      "text/plain": [
       "<Figure size 432x288 with 2 Axes>"
      ]
     },
     "metadata": {},
     "output_type": "display_data"
    }
   ],
   "source": [
    "# plot distortion and inertia for kmeans, \n",
    "# you can either plot them seperately or use fig, ax = plt.subplots(1, 2) to plot them in the same figure. \n",
    "# Suggest the optimal number of clusters based on the plot.\n",
    "\n",
    "inertia.plot.line(x=\"clusters\", subplots=True)"
   ]
  },
  {
   "cell_type": "code",
   "execution_count": 286,
   "metadata": {},
   "outputs": [
    {
     "data": {
      "image/png": "[encoded data removed]",
      "text/plain": [
       "<Figure size 432x288 with 1 Axes>"
      ]
     },
     "metadata": {},
     "output_type": "display_data"
    }
   ],
   "source": [
    "kmeans = KMeans(n_clusters=6, random_state=123)\n",
    "kmeans.fit(X)\n",
    "labels = kmeans.labels_\n",
    "centroids = kmeans.cluster_centers_\n",
    "plt.scatter(X[:, 0], X[:, 1], c=labels, s=50, cmap='viridis')\n",
    "plt.scatter(centroids[:, 0], centroids[:, 1], c='black', s=200, alpha=0.5)\n",
    "plt.title('K-Means Clustering for K=6')\n",
    "plt.show()"
   ]
  },
  {
   "cell_type": "markdown",
   "metadata": {},
   "source": [
    "A graph is plotted against the k clusters and, inertia and distortion respectively\n",
    "We can see that the graph decreases linearly after k=6.Therefore, optimal k is chosen as 6.\n",
    "Data is fit into K-means algorithm after choosing the optimal K value as 6. The labels are then predicted. A graph is plotted for 6 clusters for two variables in the data. We see that some of the clusters are overlapping."
   ]
  },
  {
   "cell_type": "markdown",
   "metadata": {},
   "source": [
    "## DBSCAN Clustering\n",
    "\n",
    "Clusters are dense areas of the data space that are divided by areas of lower point densities. This common understanding of clusters and noise is the foundation of the DBSCAN algorithm. The main idea is that at least a certain number of points must be present in the vicinity of each point within a cluster for a given radius.\n",
    "\n",
    "DBSCAN algorithm requires two parameters:\n",
    "\n",
    "- eps : It defines the neighborhood around a data point i.e. if the distance between two points is lower or equal to eps then they are considered neighbors. If the eps value is chosen too small then large part of the data will be considered as outliers. If it is chosen very large then the clusters will merge and the majority of the data points will be in the same clusters. One way to find the eps value is based on the k-distance graph.\n",
    "- MinPts: Minimum number of neighbors (data points) within eps radius. Larger the dataset, the larger value of MinPts must be chosen. As a general rule, the minimum MinPts can be derived from the number of dimensions D in the dataset as, MinPts >= D+1. The minimum value of MinPts must be chosen at least 3.\n",
    "\n",
    "# Hyper-Tuning Parameter:\n",
    "Choosing the best cluster value using the Silhouette score for hyper parameter tweaking.\n",
    "The cohesiveness (similarity) of a data point within a cluster as compared to other clusters is measured by the silhouette co-efficient. Selected a set of possible k values and computed EPs, Min Samples, and Score for each K value."
   ]
  },
  {
   "cell_type": "code",
   "execution_count": 287,
   "metadata": {},
   "outputs": [
    {
     "data": {
      "text/html": [
       "<div>\n",
       "<style scoped>\n",
       "    .dataframe tbody tr th:only-of-type {\n",
       "        vertical-align: middle;\n",
       "    }\n",
       "\n",
       "    .dataframe tbody tr th {\n",
       "        vertical-align: top;\n",
       "    }\n",
       "\n",
       "    .dataframe thead th {\n",
       "        text-align: right;\n",
       "    }\n",
       "</style>\n",
       "<table border=\"1\" class=\"dataframe\">\n",
       "  <thead>\n",
       "    <tr style=\"text-align: right;\">\n",
       "      <th></th>\n",
       "      <th>eps</th>\n",
       "      <th>min_samples</th>\n",
       "      <th>clusters</th>\n",
       "      <th>silhouette_score</th>\n",
       "    </tr>\n",
       "  </thead>\n",
       "  <tbody>\n",
       "    <tr>\n",
       "      <th>0</th>\n",
       "      <td>0.1</td>\n",
       "      <td>1.0</td>\n",
       "      <td>0.0</td>\n",
       "      <td>0.0</td>\n",
       "    </tr>\n",
       "    <tr>\n",
       "      <th>1</th>\n",
       "      <td>0.1</td>\n",
       "      <td>2.0</td>\n",
       "      <td>0.0</td>\n",
       "      <td>0.0</td>\n",
       "    </tr>\n",
       "    <tr>\n",
       "      <th>2</th>\n",
       "      <td>0.1</td>\n",
       "      <td>3.0</td>\n",
       "      <td>0.0</td>\n",
       "      <td>0.0</td>\n",
       "    </tr>\n",
       "    <tr>\n",
       "      <th>3</th>\n",
       "      <td>0.1</td>\n",
       "      <td>4.0</td>\n",
       "      <td>0.0</td>\n",
       "      <td>0.0</td>\n",
       "    </tr>\n",
       "    <tr>\n",
       "      <th>4</th>\n",
       "      <td>0.1</td>\n",
       "      <td>5.0</td>\n",
       "      <td>0.0</td>\n",
       "      <td>0.0</td>\n",
       "    </tr>\n",
       "  </tbody>\n",
       "</table>\n",
       "</div>"
      ],
      "text/plain": [
       "   eps  min_samples  clusters  silhouette_score\n",
       "0  0.1          1.0       0.0               0.0\n",
       "1  0.1          2.0       0.0               0.0\n",
       "2  0.1          3.0       0.0               0.0\n",
       "3  0.1          4.0       0.0               0.0\n",
       "4  0.1          5.0       0.0               0.0"
      ]
     },
     "execution_count": 287,
     "metadata": {},
     "output_type": "execute_result"
    }
   ],
   "source": [
    "# DBSCAN Clustering\n",
    "\n",
    "# perform DBSCAN clustering. use the eps and min_samples parameters to find the optimal number of clusters. \n",
    "# plot the number of clusters vs the silhouette score. Suggest the optimal number of clusters based on the plot.\n",
    "\n",
    "dbscan_df = pd.DataFrame(columns=['eps', 'min_samples', 'clusters', 'silhouette_score'])\n",
    "\n",
    "for i in np.arange(0.1, 2.1, 0.1):\n",
    "    \n",
    "    for j in range(1, 11):\n",
    "        \n",
    "        dbscan = DBSCAN(eps=i, min_samples=j)\n",
    "        dbscan.fit(X)\n",
    "        \n",
    "        if (len(set(dbscan.labels_) - set([-1])) > 1) & (len(set(dbscan.labels_) - set([-1])) < 11):\n",
    "            dbscan_df = dbscan_df.append({'eps': i, 'min_samples': j, 'clusters': len(set(dbscan.labels_) - set([-1])), 'silhouette_score': silhouette_score(X, dbscan.labels_)}, ignore_index=True)\n",
    "        \n",
    "        else:\n",
    "            dbscan_df = dbscan_df.append({'eps': i, 'min_samples': j, 'clusters': 0, 'silhouette_score': 0}, ignore_index=True)\n",
    "        \n",
    "dbscan_df.head()"
   ]
  },
  {
   "cell_type": "markdown",
   "metadata": {},
   "source": [
    "# Plot for Silhouette scores for each cluster value.\n",
    "\n",
    "The value of silhouette coefficient is [-1,1] \n",
    "\n",
    "- 1 denotes that the data is very compact and is within the cluster. \n",
    "- -1 value denotes that the data is no where near the cluster. \n",
    "- 0 denotes that the clusters are overlapping.\n",
    "\n",
    "From the graph plotted below, the optimal cluster size is 2, eps is 1.6, and min_samples is 9."
   ]
  },
  {
   "cell_type": "code",
   "execution_count": 288,
   "metadata": {},
   "outputs": [
    {
     "data": {
      "text/plain": [
       "<AxesSubplot:xlabel='clusters'>"
      ]
     },
     "execution_count": 288,
     "metadata": {},
     "output_type": "execute_result"
    },
    {
     "data": {
      "image/png": "[encoded data removed]",
      "text/plain": [
       "<Figure size 432x288 with 1 Axes>"
      ]
     },
     "metadata": {},
     "output_type": "display_data"
    }
   ],
   "source": [
    "dbscan_df.plot.line(x='clusters', y='silhouette_score')\n"
   ]
  },
  {
   "cell_type": "code",
   "execution_count": 289,
   "metadata": {},
   "outputs": [
    {
     "data": {
      "text/html": [
       "<div>\n",
       "<style scoped>\n",
       "    .dataframe tbody tr th:only-of-type {\n",
       "        vertical-align: middle;\n",
       "    }\n",
       "\n",
       "    .dataframe tbody tr th {\n",
       "        vertical-align: top;\n",
       "    }\n",
       "\n",
       "    .dataframe thead th {\n",
       "        text-align: right;\n",
       "    }\n",
       "</style>\n",
       "<table border=\"1\" class=\"dataframe\">\n",
       "  <thead>\n",
       "    <tr style=\"text-align: right;\">\n",
       "      <th></th>\n",
       "      <th>eps</th>\n",
       "      <th>min_samples</th>\n",
       "      <th>clusters</th>\n",
       "      <th>silhouette_score</th>\n",
       "    </tr>\n",
       "  </thead>\n",
       "  <tbody>\n",
       "    <tr>\n",
       "      <th>139</th>\n",
       "      <td>1.4</td>\n",
       "      <td>10.0</td>\n",
       "      <td>2.0</td>\n",
       "      <td>0.322867</td>\n",
       "    </tr>\n",
       "  </tbody>\n",
       "</table>\n",
       "</div>"
      ],
      "text/plain": [
       "     eps  min_samples  clusters  silhouette_score\n",
       "139  1.4         10.0       2.0          0.322867"
      ]
     },
     "execution_count": 289,
     "metadata": {},
     "output_type": "execute_result"
    }
   ],
   "source": [
    "dbscan_df[dbscan_df['silhouette_score'] == max(dbscan_df['silhouette_score'])]"
   ]
  },
  {
   "cell_type": "code",
   "execution_count": 290,
   "metadata": {},
   "outputs": [
    {
     "data": {
      "text/plain": [
       "139    2.0\n",
       "Name: clusters, dtype: float64"
      ]
     },
     "execution_count": 290,
     "metadata": {},
     "output_type": "execute_result"
    }
   ],
   "source": [
    "optimal_cluster_size = dbscan_df['clusters'][dbscan_df['silhouette_score'] == max(dbscan_df['silhouette_score'])]\n",
    "optimal_cluster_size"
   ]
  },
  {
   "cell_type": "markdown",
   "metadata": {},
   "source": [
    "After calculating the optimal values, the data is fit into DBSCAN algorithm. labels are predicted. 1 in labels is essentially noise. In this record data we dont see any noise. The unique cluster labels are 0 and 1."
   ]
  },
  {
   "cell_type": "code",
   "execution_count": 291,
   "metadata": {},
   "outputs": [
    {
     "name": "stdout",
     "output_type": "stream",
     "text": [
      "[0 0 0 ... 2 2 2]\n"
     ]
    }
   ],
   "source": [
    "dbscan = DBSCAN(eps=1.7, min_samples=10)\n",
    "dbscan.fit(X)\n",
    "y_pred = dbscan.fit_predict(X)\n",
    "labels_DB = dbscan.labels_\n",
    "print(labels_DB)"
   ]
  },
  {
   "cell_type": "code",
   "execution_count": 292,
   "metadata": {},
   "outputs": [
    {
     "data": {
      "text/plain": [
       "Counter({0: 852, -1: 103, 1: 9, 2: 465})"
      ]
     },
     "execution_count": 292,
     "metadata": {},
     "output_type": "execute_result"
    }
   ],
   "source": [
    "import collections\n",
    "collections.Counter(labels_DB)\n"
   ]
  },
  {
   "cell_type": "code",
   "execution_count": 293,
   "metadata": {},
   "outputs": [
    {
     "data": {
      "image/png": "[encoded data removed]",
      "text/plain": [
       "<Figure size 432x288 with 1 Axes>"
      ]
     },
     "metadata": {},
     "output_type": "display_data"
    }
   ],
   "source": [
    "#plot clusters using PCA\n",
    "from sklearn.decomposition import PCA\n",
    "\n",
    "pca = PCA(n_components=2)\n",
    "pca.fit(X)\n",
    "X_pca = pca.transform(X)\n",
    "plt.scatter(X_pca[:, 0], X_pca[:, 1], c=labels_DB, s=50, cmap='viridis')\n",
    "plt.xlabel('clusters')\n",
    "plt.ylabel('Air Quality measures') \n",
    "plt.title('DBSCAN Clusters')\n",
    "plt.show()"
   ]
  },
  {
   "cell_type": "markdown",
   "metadata": {},
   "source": [
    "# Agglomerative Hierarchical Clustering\n",
    "\n",
    "The most typical hierarchical clustering method used to put objects in clusters based on their similarity is called agglomerative clustering. Another name for it is AGNES (Agglomerative Nesting). Each object is first treated as a singleton cluster by the algorithm. Once all clusters have been merged into a single large cluster containing all items, pairs of clusters are gradually combined. The outcome is a dendrogram, which is a tree-based representation of the objects.\n",
    "\n",
    "The process of agglomerative clustering is bottom up. In other words, each item is originally thought of as a cluster with just one piece (leaf). The two clusters that are the most comparable are joined into a new, larger cluster at each stage of the process (nodes). The process is repeated until every point is a part of a single large cluster.\n",
    "\n",
    "By calculating the euclidean distance between the data points, we start the agglomerative clustering procedure. Then, in order to create our initial node, we merge the matrixs smallest non-zero distance. We must update our distance matrix each time there is a new node or cluster. However, we were still unsure of how far apart two distinct clusters were from one another. Moving on, we must establish the linking criterion, where the distance between clusters X and Y is determined by the minimal distance between x and y, which are members of the X and Y clusters, respectively.Up until all the data is clustered into a single cluster, the merging event is continuously repeated. We would ultimately obtain a dendrogram with all the data combined into a single cluster.\n",
    "\n",
    "# Determining the number of clusters\n",
    "What do we do with the dendrogram that we already have? It would be used to help us select a cluster for our data. Keep in mind that the dendrogram simply displayed the datas hierarchy; it did not provide us with the precise number of clusters that was ideal.\n",
    "\n",
    "By eyeballing our dendrogram and selecting a specific value as our cut-off point, we can best determine the cluster number (manual way). The cut-off point that produces the tallest vertical line is typically used. The number of the cluster would be determined by how many times the horizontal line crossed the vertical line."
   ]
  },
  {
   "cell_type": "code",
   "execution_count": 294,
   "metadata": {},
   "outputs": [],
   "source": [
    "# Agglomerative Clustering - Hierarchical Clustering\n",
    "\n",
    "# Perform Agglomerative Clustering\n",
    "from scipy.cluster.hierarchy import dendrogram, linkage\n",
    "from sklearn.cluster import AgglomerativeClustering\n",
    "\n",
    "model = AgglomerativeClustering().fit(X)\n",
    "labels = model.labels_"
   ]
  },
  {
   "cell_type": "code",
   "execution_count": 295,
   "metadata": {},
   "outputs": [
    {
     "data": {
      "image/png": "[encoded data removed]",
      "text/plain": [
       "<Figure size 432x288 with 1 Axes>"
      ]
     },
     "metadata": {},
     "output_type": "display_data"
    }
   ],
   "source": [
    "# create linkage for agglomerative clustering, and the dendrogram for the linkage. The optimal number of clusters based on the dendrogram.\n",
    "\n",
    "Z = linkage(X, method='ward')\n",
    "dend = dendrogram(Z)\n",
    "plt.axhline(y=62, color='r', linestyle='--', label='optimal number of clusters')\n",
    "plt.title('Dendrogram')\n",
    "plt.xlabel('Clusters')\n",
    "plt.ylabel('Euclidean Distance')\n",
    "plt.legend()\n",
    "plt.show()\n",
    "\n",
    "# 2 clusters are optimal."
   ]
  },
  {
   "cell_type": "markdown",
   "metadata": {},
   "source": [
    "# Final Results\n",
    "\n",
    "- Performing clustering using varios algorithms gave various results. The K means algorithm used 8 clusters to classify the data set, DBSCAN only 2 clusters were chosen and Agglomerative Hierarchical Clustering chose 2 clusters to be optimal.\n",
    "- From the methods it is safe to say that the data has more similarity. Because most data points fall into one cluster.\n",
    "- Aglomerative clustering was more time consuming, followed by DBSCAN and K- means. \n"
   ]
  },
  {
   "cell_type": "markdown",
   "metadata": {},
   "source": [
    "# Conclusion\n",
    "\n",
    "The retail e-commerce data was chosen for clustering algorithm to identify similarities between fashion trends in Macy data. Performing clustering on this algorithm proves that although, there are few dissimilar data points. Out of the three algorithms used, DBSCAN is found best for this dataset considering the time, number of clusters and data points in each clusters."
   ]
  }
 ],
 "metadata": {
  "kernelspec": {
   "display_name": "Python 3.10.6 ('base')",
   "language": "python",
   "name": "python3"
  },
  "language_info": {
   "codemirror_mode": {
    "name": "ipython",
    "version": 3
   },
   "file_extension": ".py",
   "mimetype": "text/x-python",
   "name": "python",
   "nbconvert_exporter": "python",
   "pygments_lexer": "ipython3",
   "version": "3.10.6"
  },
  "orig_nbformat": 4,
  "vscode": {
   "interpreter": {
    "hash": "c6e4e9f98eb68ad3b7c296f83d20e6de614cb42e90992a65aa266555a3137d0d"
   }
  }
 },
 "nbformat": 4,
 "nbformat_minor": 2
}
