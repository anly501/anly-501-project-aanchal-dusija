{
 "cells": [
  {
   "cell_type": "markdown",
   "metadata": {},
   "source": [
    "# Support Vector Machine for Twitter Data\n",
    "This page contains the SVM code and visualizations done in Python for Text data.\n"
   ]
  },
  {
   "cell_type": "markdown",
   "metadata": {},
   "source": [
    "## Importing Libraries"
   ]
  },
  {
   "cell_type": "code",
   "execution_count": 205,
   "metadata": {},
   "outputs": [],
   "source": [
    "import pandas as pd\n",
    "import numpy as np\n",
    "from sklearn.feature_extraction.text import CountVectorizer, TfidfVectorizer\n",
    "from sklearn.metrics import confusion_matrix\n",
    "from sklearn.metrics import classification_report, accuracy_score\n",
    "import matplotlib.pyplot as plt\n",
    "from sklearn.tree import plot_tree\n",
    "from sklearn.utils import resample\n",
    "\n",
    "from sklearn.model_selection import cross_val_score\n",
    "from sklearn.model_selection import cross_val_predict\n",
    "from sklearn.model_selection import train_test_split\n",
    "import seaborn as sns\n",
    "from sklearn.tree import DecisionTreeClassifier\n",
    "from sklearn import metrics\n",
    "from wordcloud import WordCloud, STOPWORDS"
   ]
  },
  {
   "cell_type": "markdown",
   "metadata": {},
   "source": [
    "## Inputing Data\n",
    "The data consists of Hastags 'fashiontrends' and 'ecommerce' from the Twitter API. "
   ]
  },
  {
   "cell_type": "code",
   "execution_count": 206,
   "metadata": {},
   "outputs": [
    {
     "data": {
      "text/html": [
       "<div>\n",
       "<style scoped>\n",
       "    .dataframe tbody tr th:only-of-type {\n",
       "        vertical-align: middle;\n",
       "    }\n",
       "\n",
       "    .dataframe tbody tr th {\n",
       "        vertical-align: top;\n",
       "    }\n",
       "\n",
       "    .dataframe thead th {\n",
       "        text-align: right;\n",
       "    }\n",
       "</style>\n",
       "<table border=\"1\" class=\"dataframe\">\n",
       "  <thead>\n",
       "    <tr style=\"text-align: right;\">\n",
       "      <th></th>\n",
       "      <th>label</th>\n",
       "      <th>text</th>\n",
       "      <th>clean_text</th>\n",
       "      <th>Tweet_tokenized</th>\n",
       "      <th>Tweet_without_stop</th>\n",
       "      <th>Tweet_stemmed</th>\n",
       "      <th>Tweet_lemmatized</th>\n",
       "    </tr>\n",
       "  </thead>\n",
       "  <tbody>\n",
       "    <tr>\n",
       "      <th>0</th>\n",
       "      <td>fashiontrends</td>\n",
       "      <td>What's the outfit tonight? 😏\\n⁠\\nStreaming Eve...</td>\n",
       "      <td>Whats the outfit tonight \\n\\nStreaming Everywh...</td>\n",
       "      <td>['whats', 'the', 'outfit', 'tonight', 'streami...</td>\n",
       "      <td>['whats', 'outfit', 'tonight', 'streaming', 'e...</td>\n",
       "      <td>['what', 'outfit', 'tonight', 'stream', 'every...</td>\n",
       "      <td>['whats', 'outfit', 'tonight', 'streaming', 'e...</td>\n",
       "    </tr>\n",
       "    <tr>\n",
       "      <th>1</th>\n",
       "      <td>fashiontrends</td>\n",
       "      <td>FESTIVE FEATHERS - #fashion #fashionable #fash...</td>\n",
       "      <td>FESTIVE FEATHERS  fashion fashionable fashiona...</td>\n",
       "      <td>['festive', 'feathers', 'fashion', 'fashionabl...</td>\n",
       "      <td>['festive', 'feathers', 'fashion', 'fashionabl...</td>\n",
       "      <td>['festiv', 'feather', 'fashion', 'fashion', 'f...</td>\n",
       "      <td>['festive', 'feather', 'fashion', 'fashionable...</td>\n",
       "    </tr>\n",
       "    <tr>\n",
       "      <th>2</th>\n",
       "      <td>fashiontrends</td>\n",
       "      <td>Our classic cloud slides are the comfiest shoe...</td>\n",
       "      <td>Our classic cloud slides are the comfiest shoe...</td>\n",
       "      <td>['our', 'classic', 'cloud', 'slides', 'are', '...</td>\n",
       "      <td>['classic', 'cloud', 'slides', 'comfiest', 'sh...</td>\n",
       "      <td>['classic', 'cloud', 'slide', 'comfiest', 'sho...</td>\n",
       "      <td>['classic', 'cloud', 'slide', 'comfiest', 'sho...</td>\n",
       "    </tr>\n",
       "    <tr>\n",
       "      <th>3</th>\n",
       "      <td>fashiontrends</td>\n",
       "      <td>Trendiest Knitwear At Net-A-Porter #fashiontre...</td>\n",
       "      <td>Trendiest Knitwear At NetAPorter fashiontrends...</td>\n",
       "      <td>['trendiest', 'knitwear', 'at', 'netaporter', ...</td>\n",
       "      <td>['trendiest', 'knitwear', 'netaporter', 'fashi...</td>\n",
       "      <td>['trendiest', 'knitwear', 'netaport', 'fashion...</td>\n",
       "      <td>['trendiest', 'knitwear', 'netaporter', 'fashi...</td>\n",
       "    </tr>\n",
       "    <tr>\n",
       "      <th>4</th>\n",
       "      <td>fashiontrends</td>\n",
       "      <td>Or like #Celio, a cool, fun-loving and smart o...</td>\n",
       "      <td>Or like Celio a cool funloving and smart one\\n...</td>\n",
       "      <td>['or', 'like', 'celio', 'a', 'cool', 'funlovin...</td>\n",
       "      <td>['like', 'celio', 'cool', 'funloving', 'smart'...</td>\n",
       "      <td>['like', 'celio', 'cool', 'funlov', 'smart', '...</td>\n",
       "      <td>['like', 'celio', 'cool', 'funloving', 'smart'...</td>\n",
       "    </tr>\n",
       "  </tbody>\n",
       "</table>\n",
       "</div>"
      ],
      "text/plain": [
       "           label                                               text  \\\n",
       "0  fashiontrends  What's the outfit tonight? 😏\\n⁠\\nStreaming Eve...   \n",
       "1  fashiontrends  FESTIVE FEATHERS - #fashion #fashionable #fash...   \n",
       "2  fashiontrends  Our classic cloud slides are the comfiest shoe...   \n",
       "3  fashiontrends  Trendiest Knitwear At Net-A-Porter #fashiontre...   \n",
       "4  fashiontrends  Or like #Celio, a cool, fun-loving and smart o...   \n",
       "\n",
       "                                          clean_text  \\\n",
       "0  Whats the outfit tonight \\n\\nStreaming Everywh...   \n",
       "1  FESTIVE FEATHERS  fashion fashionable fashiona...   \n",
       "2  Our classic cloud slides are the comfiest shoe...   \n",
       "3  Trendiest Knitwear At NetAPorter fashiontrends...   \n",
       "4  Or like Celio a cool funloving and smart one\\n...   \n",
       "\n",
       "                                     Tweet_tokenized  \\\n",
       "0  ['whats', 'the', 'outfit', 'tonight', 'streami...   \n",
       "1  ['festive', 'feathers', 'fashion', 'fashionabl...   \n",
       "2  ['our', 'classic', 'cloud', 'slides', 'are', '...   \n",
       "3  ['trendiest', 'knitwear', 'at', 'netaporter', ...   \n",
       "4  ['or', 'like', 'celio', 'a', 'cool', 'funlovin...   \n",
       "\n",
       "                                  Tweet_without_stop  \\\n",
       "0  ['whats', 'outfit', 'tonight', 'streaming', 'e...   \n",
       "1  ['festive', 'feathers', 'fashion', 'fashionabl...   \n",
       "2  ['classic', 'cloud', 'slides', 'comfiest', 'sh...   \n",
       "3  ['trendiest', 'knitwear', 'netaporter', 'fashi...   \n",
       "4  ['like', 'celio', 'cool', 'funloving', 'smart'...   \n",
       "\n",
       "                                       Tweet_stemmed  \\\n",
       "0  ['what', 'outfit', 'tonight', 'stream', 'every...   \n",
       "1  ['festiv', 'feather', 'fashion', 'fashion', 'f...   \n",
       "2  ['classic', 'cloud', 'slide', 'comfiest', 'sho...   \n",
       "3  ['trendiest', 'knitwear', 'netaport', 'fashion...   \n",
       "4  ['like', 'celio', 'cool', 'funlov', 'smart', '...   \n",
       "\n",
       "                                    Tweet_lemmatized  \n",
       "0  ['whats', 'outfit', 'tonight', 'streaming', 'e...  \n",
       "1  ['festive', 'feather', 'fashion', 'fashionable...  \n",
       "2  ['classic', 'cloud', 'slide', 'comfiest', 'sho...  \n",
       "3  ['trendiest', 'knitwear', 'netaporter', 'fashi...  \n",
       "4  ['like', 'celio', 'cool', 'funloving', 'smart'...  "
      ]
     },
     "execution_count": 206,
     "metadata": {},
     "output_type": "execute_result"
    }
   ],
   "source": [
    "df1=pd.read_csv('Clean_Twitter_data.csv')\n",
    "df2 = pd.read_csv('Clean_Twitter_data1.csv')\n",
    "df = pd.concat([df1, df2], ignore_index=True)\n",
    "df.head()"
   ]
  },
  {
   "cell_type": "markdown",
   "metadata": {},
   "source": [
    "## Cleaning and formatting the dataset to the required format\n",
    "There are a lot of unwated columns in the dataframe. These columns are dropped from the dataframe, retaining only the necessary columns. The stopwords are removed and the text is tokenized, lemmatized and stemmed. Countvectorizer is applied on the data to convert it to numerical format. Checking the balance of the label is very important before performing svm, as unbalanced dataset may lead to over or underfitting."
   ]
  },
  {
   "cell_type": "code",
   "execution_count": 207,
   "metadata": {},
   "outputs": [
    {
     "data": {
      "text/html": [
       "<div>\n",
       "<style scoped>\n",
       "    .dataframe tbody tr th:only-of-type {\n",
       "        vertical-align: middle;\n",
       "    }\n",
       "\n",
       "    .dataframe tbody tr th {\n",
       "        vertical-align: top;\n",
       "    }\n",
       "\n",
       "    .dataframe thead th {\n",
       "        text-align: right;\n",
       "    }\n",
       "</style>\n",
       "<table border=\"1\" class=\"dataframe\">\n",
       "  <thead>\n",
       "    <tr style=\"text-align: right;\">\n",
       "      <th></th>\n",
       "      <th>label</th>\n",
       "      <th>Tweet_lemmatized</th>\n",
       "    </tr>\n",
       "  </thead>\n",
       "  <tbody>\n",
       "    <tr>\n",
       "      <th>0</th>\n",
       "      <td>fashiontrends</td>\n",
       "      <td>['whats', 'outfit', 'tonight', 'streaming', 'e...</td>\n",
       "    </tr>\n",
       "    <tr>\n",
       "      <th>1</th>\n",
       "      <td>fashiontrends</td>\n",
       "      <td>['festive', 'feather', 'fashion', 'fashionable...</td>\n",
       "    </tr>\n",
       "    <tr>\n",
       "      <th>2</th>\n",
       "      <td>fashiontrends</td>\n",
       "      <td>['classic', 'cloud', 'slide', 'comfiest', 'sho...</td>\n",
       "    </tr>\n",
       "    <tr>\n",
       "      <th>3</th>\n",
       "      <td>fashiontrends</td>\n",
       "      <td>['trendiest', 'knitwear', 'netaporter', 'fashi...</td>\n",
       "    </tr>\n",
       "    <tr>\n",
       "      <th>4</th>\n",
       "      <td>fashiontrends</td>\n",
       "      <td>['like', 'celio', 'cool', 'funloving', 'smart'...</td>\n",
       "    </tr>\n",
       "  </tbody>\n",
       "</table>\n",
       "</div>"
      ],
      "text/plain": [
       "           label                                   Tweet_lemmatized\n",
       "0  fashiontrends  ['whats', 'outfit', 'tonight', 'streaming', 'e...\n",
       "1  fashiontrends  ['festive', 'feather', 'fashion', 'fashionable...\n",
       "2  fashiontrends  ['classic', 'cloud', 'slide', 'comfiest', 'sho...\n",
       "3  fashiontrends  ['trendiest', 'knitwear', 'netaporter', 'fashi...\n",
       "4  fashiontrends  ['like', 'celio', 'cool', 'funloving', 'smart'..."
      ]
     },
     "execution_count": 207,
     "metadata": {},
     "output_type": "execute_result"
    }
   ],
   "source": [
    "df = df[['label','Tweet_lemmatized']]\n",
    "df.head()"
   ]
  },
  {
   "cell_type": "code",
   "execution_count": 208,
   "metadata": {},
   "outputs": [
    {
     "data": {
      "text/plain": [
       "['whats outfit tonight streaming everywhere link bio saturday weekend sexpositive weekendmood deephouse techhouse spotify theeveningafter lifestyle fashiontrends styleblogger fashioninspo fashion style model painting makeup fashionblogger ',\n",
       " 'festive feather fashion fashionable fashionaddict fashionblogger fashionbloggers fashiongram fashionicon fashioninspo fashionista fashionistas fashionlove fashionlovers fashionpost fashionstyle fashiontrends feather festive insta ',\n",
       " 'classic cloud slide comfiest shoe around shop kat cloud slide today yoru fave color minimal heel fashionrevolution black fashiontrends summerfashion fashioninspo vintagefashion glamour cloudshoes slipper ',\n",
       " 'trendiest knitwear netaporter fashiontrends via youtube knitwear sweater netaporter fashiontrends',\n",
       " 'like celio cool funloving smart one trendy fashiontrends lookatme ']"
      ]
     },
     "execution_count": 208,
     "metadata": {},
     "output_type": "execute_result"
    }
   ],
   "source": [
    "final_tweets=[i.replace(\",\",\"\").replace(\"[\",\"\").replace(\"]\",\"\").replace(\"'\",\"\") for i in df['Tweet_lemmatized']]\n",
    "final_tweets[0:5]"
   ]
  },
  {
   "cell_type": "code",
   "execution_count": 209,
   "metadata": {},
   "outputs": [],
   "source": [
    "df['final_tweets']=final_tweets"
   ]
  },
  {
   "cell_type": "code",
   "execution_count": 210,
   "metadata": {},
   "outputs": [
    {
     "data": {
      "text/html": [
       "<div>\n",
       "<style scoped>\n",
       "    .dataframe tbody tr th:only-of-type {\n",
       "        vertical-align: middle;\n",
       "    }\n",
       "\n",
       "    .dataframe tbody tr th {\n",
       "        vertical-align: top;\n",
       "    }\n",
       "\n",
       "    .dataframe thead th {\n",
       "        text-align: right;\n",
       "    }\n",
       "</style>\n",
       "<table border=\"1\" class=\"dataframe\">\n",
       "  <thead>\n",
       "    <tr style=\"text-align: right;\">\n",
       "      <th></th>\n",
       "      <th>label</th>\n",
       "      <th>final_tweets</th>\n",
       "    </tr>\n",
       "  </thead>\n",
       "  <tbody>\n",
       "    <tr>\n",
       "      <th>0</th>\n",
       "      <td>fashiontrends</td>\n",
       "      <td>whats outfit tonight streaming everywhere link...</td>\n",
       "    </tr>\n",
       "    <tr>\n",
       "      <th>1</th>\n",
       "      <td>fashiontrends</td>\n",
       "      <td>festive feather fashion fashionable fashionadd...</td>\n",
       "    </tr>\n",
       "    <tr>\n",
       "      <th>2</th>\n",
       "      <td>fashiontrends</td>\n",
       "      <td>classic cloud slide comfiest shoe around shop ...</td>\n",
       "    </tr>\n",
       "    <tr>\n",
       "      <th>3</th>\n",
       "      <td>fashiontrends</td>\n",
       "      <td>trendiest knitwear netaporter fashiontrends vi...</td>\n",
       "    </tr>\n",
       "    <tr>\n",
       "      <th>4</th>\n",
       "      <td>fashiontrends</td>\n",
       "      <td>like celio cool funloving smart one trendy fas...</td>\n",
       "    </tr>\n",
       "  </tbody>\n",
       "</table>\n",
       "</div>"
      ],
      "text/plain": [
       "           label                                       final_tweets\n",
       "0  fashiontrends  whats outfit tonight streaming everywhere link...\n",
       "1  fashiontrends  festive feather fashion fashionable fashionadd...\n",
       "2  fashiontrends  classic cloud slide comfiest shoe around shop ...\n",
       "3  fashiontrends  trendiest knitwear netaporter fashiontrends vi...\n",
       "4  fashiontrends  like celio cool funloving smart one trendy fas..."
      ]
     },
     "execution_count": 210,
     "metadata": {},
     "output_type": "execute_result"
    }
   ],
   "source": [
    "df=df.drop('Tweet_lemmatized',axis=1)\n",
    "df.head()"
   ]
  },
  {
   "cell_type": "code",
   "execution_count": 213,
   "metadata": {},
   "outputs": [],
   "source": [
    "X=df['final_tweets'].values\n",
    "y=df['label'].values"
   ]
  },
  {
   "cell_type": "code",
   "execution_count": 214,
   "metadata": {},
   "outputs": [
    {
     "data": {
      "text/plain": [
       "array([1, 1, 1, 1, 1, 1, 1, 1, 1, 1, 1, 1, 1, 1, 1, 1, 1, 1, 1, 1, 1, 1,\n",
       "       1, 1, 1, 1, 1, 1, 1, 1, 1, 1, 1, 1, 1, 1, 1, 1, 1, 1, 1, 1, 1, 1,\n",
       "       1, 1, 1, 1, 1, 1, 1, 1, 1, 1, 1, 1, 1, 1, 1, 1, 1, 1, 1, 1, 1, 1,\n",
       "       1, 1, 1, 1, 1, 1, 1, 1, 1, 1, 1, 1, 1, 1, 1, 1, 1, 1, 1, 1, 1, 1,\n",
       "       1, 1, 1, 1, 1, 1, 1, 1, 1, 1, 1, 1, 1, 0, 0, 0, 0, 0, 0, 0, 0, 0,\n",
       "       0, 0, 0, 0, 0, 0, 0, 0, 0, 0, 0, 0, 0, 0, 0, 0, 0, 0, 0, 0, 0, 0,\n",
       "       0, 0, 0, 0, 0, 0, 0, 0, 0, 0, 0, 0, 0, 0, 0, 0, 0, 0, 0, 0, 0, 0,\n",
       "       0, 0, 0, 0, 0, 0, 0, 0, 0, 0, 0, 0, 0, 0, 0, 0, 0, 0, 0, 0, 0, 0,\n",
       "       0, 0, 0, 0, 0, 0, 0, 0, 0, 0, 0, 0, 0, 0, 0, 0, 0, 0, 0, 0, 0, 0,\n",
       "       0, 0, 0, 0])"
      ]
     },
     "execution_count": 214,
     "metadata": {},
     "output_type": "execute_result"
    }
   ],
   "source": [
    "from sklearn.preprocessing import LabelEncoder\n",
    "labelencoder = LabelEncoder()\n",
    "y = labelencoder.fit_transform(y)\n",
    "y\n"
   ]
  },
  {
   "cell_type": "markdown",
   "metadata": {},
   "source": [
    "## Model Building\n",
    "Before building the model, the dataset is split into training and testing sets. The split ratio is 0.75 of the total data in the training set and 0.25 data in the testing set."
   ]
  },
  {
   "cell_type": "code",
   "execution_count": 215,
   "metadata": {},
   "outputs": [
    {
     "name": "stderr",
     "output_type": "stream",
     "text": [
      "/opt/homebrew/Caskroom/miniforge/base/lib/python3.10/site-packages/sklearn/utils/deprecation.py:87: FutureWarning: Function get_feature_names is deprecated; get_feature_names is deprecated in 1.0 and will be removed in 1.2. Please use get_feature_names_out instead.\n",
      "  warnings.warn(msg, category=FutureWarning)\n"
     ]
    },
    {
     "data": {
      "text/plain": [
       "dict_values([101, 101])"
      ]
     },
     "execution_count": 215,
     "metadata": {},
     "output_type": "execute_result"
    }
   ],
   "source": [
    "import random as rd\n",
    "MyCV_content=CountVectorizer(input='content',\n",
    "                        stop_words='english'\n",
    "                        #max_features=100\n",
    "                        )\n",
    "\n",
    "My_DTM2=MyCV_content.fit_transform(X)\n",
    "ColNames=MyCV_content.get_feature_names()\n",
    "My_DF_content=pd.DataFrame(My_DTM2.toarray(),columns=ColNames)\n",
    "\n",
    "\n",
    "My_DF_content['LABEL'] = pd.DataFrame(y,columns=['LABEL'])\n",
    "TrainDF, TestDF = train_test_split(My_DF_content, test_size=0.25, random_state=111)\n",
    "TrainLabels=TrainDF[\"LABEL\"]\n",
    "TestLabels=TestDF[\"LABEL\"]\n",
    "\n",
    "TrainDF = TrainDF.drop([\"LABEL\"], axis=1)\n",
    "TestDF = TestDF.drop([\"LABEL\"], axis=1)\n",
    "\n",
    "from collections import Counter\n",
    "Counter(y).keys()\n",
    "Counter(y).values()\n"
   ]
  },
  {
   "cell_type": "markdown",
   "metadata": {},
   "source": [
    "# What is SVM? \n",
    "` Introduction: `\n",
    "\n",
    "Support Vector Machine (SVM) is a relatively simple Supervised Machine Learning Algorithm used for classification and/or regression. It is more preferred for classification but is sometimes very useful for regression as well. Basically, SVM finds a hyper-plane that creates a boundary between the types of data. In 2-dimensional space, this hyper-plane is nothing but a line. In SVM, we plot each data item in the dataset in an N-dimensional space, where N is the number of features/attributes in the data. Next, find the optimal hyperplane to separate the data. So by this, you must have understood that inherently, SVM can only perform binary classification (i.e., choose between two classes). However, there are various techniques to use for multi-class problems. Support Vector Machine for Multi-CLass Problems To perform SVM on multi-class problems, we can create a binary classifier for each class of the data. The two results of each classifier will be :\n",
    "\n",
    "- The data point belongs to that class OR\n",
    "- The data point does not belong to that class.\n",
    "\n",
    "` The Kernel Trick: ` \n",
    "\n",
    "We use Kernelized SVM for non-linearly separable data. Say, we have some non-linearly separable data in one dimension. We can transform this data into two dimensions and the data will become linearly separable in two dimensions. This is done by mapping each 1-D data point to a corresponding 2-D ordered pair. So for any non-linearly separable data in any dimension, we can just map the data to a higher dimension and then make it linearly separable. This is a very powerful and general transformation. A kernel is nothing but a measure of similarity between data points. The kernel function in a kernelized SVM tells you, that given two data points in the original feature space, what the similarity is between the points in the newly transformed feature space. There are various kernel functions available, but two are very popular :\n",
    "\n",
    "- Radial Basis Function Kernel (RBF)\n",
    "The RBF kernel is the most widely used kernel concept to solve the problem of classifying datasets that cannot be separated linearly. This kernel is known to have good performance with certain parameters, and the results of the training have a small error value compared to other kernels. The Gaussian kernel RBF has two parameters, namely gamma and sigma. The gamma parameter has a default value, which is γ = 1 / (2σ) ^ 2. When gamma is high, the points around the data are likely to be considered in the calculation. The sigma parameter is used to find the optimal value for each dataset.\n",
    "\n",
    "- Polynomial Kernel\n",
    "A Polynomial Kernel is more generalized form of the linear kernel. In machine learning, the polynomial kernel is a kernel function suitable for use in support vector machines (SVM) and other kernelizations, where the kernel represents the similarity of the training sample vectors in a feature space. Polynomial kernels are also suitable for solving classification problems on normalized training datasets. This kernel is used when data cannot be separated linearly.The polynomial kernel has a degree parameter (d) which functions to find the optimal value in each dataset. The d parameter is the degree of the polynomial kernel function with a default value of d = 2. The greater the d value, the resulting system accuracy will be fluctuating and less stable. This happens because the higher the d parameter value, the more curved the resulting hyperplane line.\n",
    "\n",
    "- Sigmoid Kernel\n",
    "The concept of the sigmoid kernel is a development of an artificial neural network (ANN). The Sigmoid kernel has been proposed theoretically for a Support Vector Machine (SVM) because it originates from a neural network, but until now it has not been widely used in practice.The sigmoid kernel is widely applied in neural networks for classification processes. The SVM classification with the sigmoid kernel has a complex structure and it is difficult for humans to interpret and understand how the sigmoid kernel makes classification decisions. Interest in these kernels stems from their success in classifying with the neural netwotk and logistic regression, specific properties, linearity and cumulative distribution.\n",
    "\n",
    "` Important Parameters in Kernelized SVM: `\n",
    "- The Kernel: The kernel, is selected based on the type of data and also the type of transformation. By default, the kernel is Radial Basis Function Kernel (RBF).\n",
    "\n",
    "- Gamma : This parameter decides how far the influence of a single training example reaches during transformation, which in turn affects how tightly the decision boundaries end up surrounding points in the input space. If there is a small value of gamma, points farther apart are considered similar. So more points are grouped together and have smoother decision boundaries (maybe less accurate). Larger values of gamma cause points to be closer together (may cause overfitting).\n",
    "\n",
    "- The ‘C’ parameter: This parameter controls the amount of regularization applied to the data. Large values of C mean low regularization which in turn causes the training data to fit very well (may cause overfitting). Lower values of C mean higher regularization which causes the model to be more tolerant of errors (may lead to lower accuracy).\n",
    "\n",
    "The SVM is created using text dataset in Python.The tweets are extracted on the hashtag \"fashiontrends\" and hashtag \"ecommerce\" . The motive behind collecting this text data was to understand the opinion of people regarding fashion trends and different tweets regarding ecommerce. To keep things simple, we’ll use the scikit-learn library to generate linearly separable data. "
   ]
  },
  {
   "cell_type": "code",
   "execution_count": 216,
   "metadata": {},
   "outputs": [],
   "source": [
    "from sklearn.svm import SVC\n",
    "from sklearn.model_selection import GridSearchCV\n",
    "from sklearn.model_selection import learning_curve\n",
    "\n",
    "def svc_param_selection(X, y,k):\n",
    "    Cs = [ .01, 1, 5, 10]\n",
    "    param_grid = {'C': Cs}\n",
    "    grid_search = GridSearchCV(SVC(kernel=k), param_grid)\n",
    "    grid_search.fit(X, y)\n",
    "    grid_search.best_params_\n",
    "    return grid_search.best_params_"
   ]
  },
  {
   "cell_type": "markdown",
   "metadata": {},
   "source": [
    "## SVM Model 1\n",
    "\n",
    "This is the first SVM Model. In this model, the kernel is Sigmoid and the accuracy of this model is 96%."
   ]
  },
  {
   "cell_type": "code",
   "execution_count": 220,
   "metadata": {},
   "outputs": [
    {
     "name": "stdout",
     "output_type": "stream",
     "text": [
      "              precision    recall  f1-score   support\n",
      "\n",
      "           0       0.92      1.00      0.96        23\n",
      "           1       1.00      0.93      0.96        28\n",
      "\n",
      "    accuracy                           0.96        51\n",
      "   macro avg       0.96      0.96      0.96        51\n",
      "weighted avg       0.96      0.96      0.96        51\n",
      "\n"
     ]
    },
    {
     "data": {
      "image/png": "[encoded data removed]",
      "text/plain": [
       "<Figure size 432x288 with 2 Axes>"
      ]
     },
     "metadata": {
      "needs_background": "light"
     },
     "output_type": "display_data"
    }
   ],
   "source": [
    "SVM_Model=SVC(kernel='sigmoid', C=0.1, probability=True)\n",
    "SVM_Model.fit(TrainDF, TrainLabels)\n",
    "\n",
    "Preds_SVM1 = SVM_Model.predict(TestDF)\n",
    "Pred_Proba_SVM1 = SVM_Model.predict_proba(TestDF)\n",
    "SVM_matrix = confusion_matrix(TestLabels, Preds_SVM1)\n",
    "print(metrics.classification_report(TestLabels, Preds_SVM1))\n",
    "\n",
    "##Visualise Confusion Matrix\n",
    "labels = ['fashiontrends', 'ecommerce']\n",
    "ax1=plt.subplot()\n",
    "sns.heatmap(confusion_matrix(TestLabels, Preds_SVM1), annot=True, fmt='g', ax=ax1);\n",
    "\n",
    "# labels, title and ticks\n",
    "ax1.set_xlabel('Predicted labels');ax1.set_ylabel('True labels'); \n",
    "ax1.set_title('Confusion Matrix'); \n",
    "ax1.xaxis.set_ticklabels(labels); ax1.yaxis.set_ticklabels(labels);\n",
    "plt.show()\n",
    "plt.close()"
   ]
  },
  {
   "cell_type": "markdown",
   "metadata": {},
   "source": [
    "## SVM Model 2\n",
    "\n",
    "This is the second SVM Model. In this model, the kernel is Polynomial and the accuracy of this model is 75%."
   ]
  },
  {
   "cell_type": "code",
   "execution_count": 221,
   "metadata": {},
   "outputs": [
    {
     "name": "stdout",
     "output_type": "stream",
     "text": [
      "              precision    recall  f1-score   support\n",
      "\n",
      "           0       0.64      1.00      0.78        23\n",
      "           1       1.00      0.54      0.70        28\n",
      "\n",
      "    accuracy                           0.75        51\n",
      "   macro avg       0.82      0.77      0.74        51\n",
      "weighted avg       0.84      0.75      0.73        51\n",
      "\n"
     ]
    },
    {
     "data": {
      "image/png": "[encoded data removed]",
      "text/plain": [
       "<Figure size 432x288 with 2 Axes>"
      ]
     },
     "metadata": {
      "needs_background": "light"
     },
     "output_type": "display_data"
    }
   ],
   "source": [
    "SVM_Model2=SVC(kernel='poly', C=10,probability=True)\n",
    "SVM_Model2.fit(TrainDF, TrainLabels)\n",
    "\n",
    "Preds_SVM2 = SVM_Model2.predict(TestDF)\n",
    "Pred_Proba_SVM2 = SVM_Model2.predict_proba(TestDF)\n",
    "SVM_matrix = confusion_matrix(TestLabels, Preds_SVM2)\n",
    "print(metrics.classification_report(TestLabels, Preds_SVM2))\n",
    "\n",
    "##Visualise Confusion Matrix\n",
    "labels = ['fashiontrends', 'ecommerce']\n",
    "ax1=plt.subplot()\n",
    "sns.heatmap(confusion_matrix(TestLabels, Preds_SVM2), annot=True, fmt='g', ax=ax1);\n",
    "\n",
    "# labels, title and ticks\n",
    "ax1.set_xlabel('Predicted labels');ax1.set_ylabel('True labels'); \n",
    "ax1.set_title('Confusion Matrix'); \n",
    "ax1.xaxis.set_ticklabels(labels); ax1.yaxis.set_ticklabels(labels);\n",
    "plt.show()\n",
    "plt.close()"
   ]
  },
  {
   "cell_type": "markdown",
   "metadata": {},
   "source": [
    "## SVM Model 3\n",
    "\n",
    "This is the third SVM Model. In this model, the kernel is radial and the accuracy of this model is 94%."
   ]
  },
  {
   "cell_type": "code",
   "execution_count": 225,
   "metadata": {},
   "outputs": [
    {
     "name": "stdout",
     "output_type": "stream",
     "text": [
      "              precision    recall  f1-score   support\n",
      "\n",
      "           0       0.88      1.00      0.94        23\n",
      "           1       1.00      0.89      0.94        28\n",
      "\n",
      "    accuracy                           0.94        51\n",
      "   macro avg       0.94      0.95      0.94        51\n",
      "weighted avg       0.95      0.94      0.94        51\n",
      "\n"
     ]
    },
    {
     "data": {
      "image/png": "[encoded data removed]",
      "text/plain": [
       "<Figure size 432x288 with 2 Axes>"
      ]
     },
     "metadata": {
      "needs_background": "light"
     },
     "output_type": "display_data"
    }
   ],
   "source": [
    "SVM_Model3=SVC(kernel='rbf', C=0.3,probability=True)\n",
    "SVM_Model3.fit(TrainDF, TrainLabels)\n",
    "\n",
    "Preds_SVM3 = SVM_Model3.predict(TestDF)\n",
    "Pred_Proba_SVM3 = SVM_Model3.predict_proba(TestDF)\n",
    "SVM_matrix3 = confusion_matrix(TestLabels, Preds_SVM3)\n",
    "print(metrics.classification_report(TestLabels, Preds_SVM3))\n",
    "\n",
    "##Visualise Confusion Matrix\n",
    "labels = ['fashiontrends', 'ecommerce']\n",
    "ax1=plt.subplot()\n",
    "sns.heatmap(confusion_matrix(TestLabels, Preds_SVM3), annot=True, fmt='g', ax=ax1);\n",
    "\n",
    "# labels, title and ticks\n",
    "ax1.set_xlabel('Predicted labels');ax1.set_ylabel('True labels'); \n",
    "ax1.set_title('Confusion Matrix'); \n",
    "ax1.xaxis.set_ticklabels(labels); ax1.yaxis.set_ticklabels(labels);\n",
    "plt.show()\n",
    "plt.close()"
   ]
  },
  {
   "cell_type": "markdown",
   "metadata": {},
   "source": [
    "# Conclusion\n",
    "\n",
    "The SVM model classified tweets generated from Twitter into the hashtag class (fashiontrends and ecommerce) of different tweets. The accuracy of the models are in the range of 75-96% which is pretty high in prediction. With the collection of words, the model is able to predict or classify the tweets into particular classes. The first model,i.e, the sigmoid model is the best model for this data as it has the highest accuracy (96%). "
   ]
  }
 ],
 "metadata": {
  "kernelspec": {
   "display_name": "Python 3.10.6 ('base')",
   "language": "python",
   "name": "python3"
  },
  "language_info": {
   "codemirror_mode": {
    "name": "ipython",
    "version": 3
   },
   "file_extension": ".py",
   "mimetype": "text/x-python",
   "name": "python",
   "nbconvert_exporter": "python",
   "pygments_lexer": "ipython3",
   "version": "3.10.6"
  },
  "orig_nbformat": 4,
  "vscode": {
   "interpreter": {
    "hash": "c6e4e9f98eb68ad3b7c296f83d20e6de614cb42e90992a65aa266555a3137d0d"
   }
  }
 },
 "nbformat": 4,
 "nbformat_minor": 2
}
